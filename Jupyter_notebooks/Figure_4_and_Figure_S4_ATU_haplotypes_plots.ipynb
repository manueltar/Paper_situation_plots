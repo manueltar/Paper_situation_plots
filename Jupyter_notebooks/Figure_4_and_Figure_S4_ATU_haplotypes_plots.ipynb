{
 "cells": [
  {
   "cell_type": "markdown",
   "id": "5ba6e839-d30f-48b7-bade-2bebc44d281d",
   "metadata": {},
   "source": [
    "# Load libraries"
   ]
  },
  {
   "cell_type": "code",
   "execution_count": 1,
   "id": "898e4e86-7d07-4ed9-8353-945efc378c08",
   "metadata": {
    "execution": {
     "iopub.execute_input": "2025-06-25T05:26:43.783476Z",
     "iopub.status.busy": "2025-06-25T05:26:43.781826Z",
     "iopub.status.idle": "2025-06-25T05:26:59.708641Z",
     "shell.execute_reply": "2025-06-25T05:26:59.707452Z"
    }
   },
   "outputs": [
    {
     "data": {
      "text/html": [
       "'/home/manuel.tardaguila/conda_envs/general_purpose/lib/R/library'"
      ],
      "text/latex": [
       "'/home/manuel.tardaguila/conda\\_envs/general\\_purpose/lib/R/library'"
      ],
      "text/markdown": [
       "'/home/manuel.tardaguila/conda_envs/general_purpose/lib/R/library'"
      ],
      "text/plain": [
       "[1] \"/home/manuel.tardaguila/conda_envs/general_purpose/lib/R/library\""
      ]
     },
     "metadata": {},
     "output_type": "display_data"
    },
    {
     "data": {
      "text/html": [
       "'/home/manuel.tardaguila/R/x86_64-pc-linux-gnu-library/4.1/'"
      ],
      "text/latex": [
       "'/home/manuel.tardaguila/R/x86\\_64-pc-linux-gnu-library/4.1/'"
      ],
      "text/markdown": [
       "'/home/manuel.tardaguila/R/x86_64-pc-linux-gnu-library/4.1/'"
      ],
      "text/plain": [
       "[1] \"/home/manuel.tardaguila/R/x86_64-pc-linux-gnu-library/4.1/\""
      ]
     },
     "metadata": {},
     "output_type": "display_data"
    }
   ],
   "source": [
    ".libPaths()\n",
    "\n",
    "assign(\".lib.loc\", \"/home/manuel.tardaguila/R/x86_64-pc-linux-gnu-library/4.1/\", envir = environment(.libPaths))\n",
    ".libPaths()\n",
    "\n",
    "suppressMessages(library(\"plyr\", lib.loc=\"/home/manuel.tardaguila/R/x86_64-pc-linux-gnu-library/4.1/\"))\n",
    "suppressMessages(library(\"data.table\", lib.loc=\"/home/manuel.tardaguila/R/x86_64-pc-linux-gnu-library/4.1/\"))\n",
    "suppressMessages(library(\"withr\", lib.loc=\"/home/manuel.tardaguila/R/x86_64-pc-linux-gnu-library/4.1/\"))\n",
    "suppressMessages(library(\"ggplot2\", lib.loc = \"/home/manuel.tardaguila/R/x86_64-pc-linux-gnu-library/4.1/\"))\n",
    "suppressMessages(library(\"farver\", lib.loc=\"/home/manuel.tardaguila/R/x86_64-pc-linux-gnu-library/4.1/\"))\n",
    "suppressMessages(library(\"labeling\", lib.loc=\"/home/manuel.tardaguila/R/x86_64-pc-linux-gnu-library/4.1/\"))\n",
    "suppressMessages(library(\"optparse\", lib.loc = \"/home/manuel.tardaguila/R/x86_64-pc-linux-gnu-library/4.1/\"))\n",
    "suppressMessages(library(\"dplyr\", lib.loc = \"/home/manuel.tardaguila/R/x86_64-pc-linux-gnu-library/4.1/\"))\n",
    "suppressMessages(library(\"withr\", lib.loc=\"/home/manuel.tardaguila/R/x86_64-pc-linux-gnu-library/4.1/\"))\n",
    "suppressMessages(library(\"backports\", lib.loc=\"/home/manuel.tardaguila/R/x86_64-pc-linux-gnu-library/4.1/\"))\n",
    "suppressMessages(library(\"broom\", lib.loc=\"/home/manuel.tardaguila/R/x86_64-pc-linux-gnu-library/4.1/\"))\n",
    "suppressMessages(library(\"rstudioapi\", lib.loc=\"/home/manuel.tardaguila/R/x86_64-pc-linux-gnu-library/4.1/\"))\n",
    "suppressMessages(library(\"tzdb\", lib.loc=\"/home/manuel.tardaguila/R/x86_64-pc-linux-gnu-library/4.1/\"))\n",
    "suppressMessages(library(\"svglite\", lib.loc=\"/home/manuel.tardaguila/R/x86_64-pc-linux-gnu-library/4.1/\"))\n",
    "suppressMessages(library(\"ggeasy\", lib.loc=\"/home/manuel.tardaguila/R/x86_64-pc-linux-gnu-library/4.1/\"))\n",
    "suppressMessages(library(\"tidyverse\", lib.loc=\"/home/manuel.tardaguila/R/x86_64-pc-linux-gnu-library/4.1/\"))\n",
    "suppressMessages(library(\"BiocGenerics\", lib.loc=\"/home/manuel.tardaguila/R/x86_64-pc-linux-gnu-library/4.1/\"))\n",
    "suppressMessages(library(\"S4Vectors\", lib.loc=\"/home/manuel.tardaguila/R/x86_64-pc-linux-gnu-library/4.1/\"))\n",
    "suppressMessages(library(\"IRanges\", lib.loc=\"/home/manuel.tardaguila/R/x86_64-pc-linux-gnu-library/4.1/\"))\n",
    "suppressMessages(library(\"GenomeInfoDb\", lib.loc=\"/home/manuel.tardaguila/R/x86_64-pc-linux-gnu-library/4.1/\"))\n",
    "suppressMessages(library(\"GenomicRanges\", lib.loc=\"/home/manuel.tardaguila/R/x86_64-pc-linux-gnu-library/4.1/\"))\n",
    "suppressMessages(library(\"Biobase\", lib.loc=\"/home/manuel.tardaguila/R/x86_64-pc-linux-gnu-library/4.1/\"))\n",
    "suppressMessages(library(\"AnnotationDbi\", lib.loc=\"/home/manuel.tardaguila/R/x86_64-pc-linux-gnu-library/4.1/\"))\n",
    "suppressMessages(library(\"GO.db\", lib.loc=\"/home/manuel.tardaguila/R/x86_64-pc-linux-gnu-library/4.1/\"))\n",
    "suppressMessages(library(\"org.Hs.eg.db\", lib.loc=\"/home/manuel.tardaguila/R/x86_64-pc-linux-gnu-library/4.1/\"))\n",
    "suppressMessages(library(\"ggrepel\", lib.loc=\"/home/manuel.tardaguila/R/x86_64-pc-linux-gnu-library/4.1/\"))\n",
    "suppressMessages(library(\"RColorBrewer\", lib.loc=\"/home/manuel.tardaguila/R/x86_64-pc-linux-gnu-library/4.1/\"))\n",
    "suppressMessages(library(\"svglite\", lib.loc=\"/home/manuel.tardaguila/R/x86_64-pc-linux-gnu-library/4.1/\"))\n",
    "suppressMessages(library(\"cowplot\", lib.loc=\"/home/manuel.tardaguila/R/x86_64-pc-linux-gnu-library/4.1/\"))\n",
    "suppressMessages(library(\"Matrix\", lib.loc=\"/home/manuel.tardaguila/R/x86_64-pc-linux-gnu-library/4.1/\"))\n",
    "suppressMessages(library(\"rtracklayer\", lib.loc=\"/home/manuel.tardaguila/R/x86_64-pc-linux-gnu-library/4.1/\"))\n",
    "suppressMessages(library(\"Biostrings\", lib.loc=\"/home/manuel.tardaguila/R/x86_64-pc-linux-gnu-library/4.1/\"))\n",
    "suppressMessages(library(\"ggrepel\", lib.loc=\"/home/manuel.tardaguila/R/x86_64-pc-linux-gnu-library/4.1/\"))\n",
    "suppressMessages(library(\"ggarchery\", lib.loc=\"/home/manuel.tardaguila/R/x86_64-pc-linux-gnu-library/4.1/\"))\n",
    "suppressMessages(library(\"ggnewscale\", lib.loc=\"/home/manuel.tardaguila/R/x86_64-pc-linux-gnu-library/4.1/\"))\n",
    "suppressMessages(library(\"splitstackshape\", lib.loc=\"/home/manuel.tardaguila/R/x86_64-pc-linux-gnu-library/4.1/\"))\n",
    "suppressMessages(library(\"viridis\", lib.loc=\"/home/manuel.tardaguila/R/x86_64-pc-linux-gnu-library/4.1/\"))\n",
    "suppressMessages(library(\"ggtranscript\", lib.loc=\"/home/manuel.tardaguila/R/x86_64-pc-linux-gnu-library/4.1/\"))\n",
    "suppressMessages(library(\"ggpubr\", lib.loc=\"/home/manuel.tardaguila/R/x86_64-pc-linux-gnu-library/4.1/\"))\n"
   ]
  },
  {
   "cell_type": "code",
   "execution_count": 2,
   "id": "8af0ed16-9a2b-441f-91b6-553a182e9163",
   "metadata": {
    "execution": {
     "iopub.execute_input": "2025-06-25T05:26:59.730751Z",
     "iopub.status.busy": "2025-06-25T05:26:59.710510Z",
     "iopub.status.idle": "2025-06-25T05:26:59.738967Z",
     "shell.execute_reply": "2025-06-25T05:26:59.737846Z"
    }
   },
   "outputs": [],
   "source": [
    "DEBUG<-1"
   ]
  },
  {
   "cell_type": "markdown",
   "id": "f2529b68-bd7d-40ea-88ce-5353369ad018",
   "metadata": {},
   "source": [
    "# Read input haplotypes to be demultiplexed"
   ]
  },
  {
   "cell_type": "code",
   "execution_count": 30,
   "id": "6e11cf67-0357-4bf6-b147-f0acc93b4767",
   "metadata": {
    "execution": {
     "iopub.execute_input": "2025-06-25T06:07:21.197954Z",
     "iopub.status.busy": "2025-06-25T06:07:21.196890Z",
     "iopub.status.idle": "2025-06-25T06:07:21.223010Z",
     "shell.execute_reply": "2025-06-25T06:07:21.221894Z"
    }
   },
   "outputs": [
    {
     "name": "stdout",
     "output_type": "stream",
     "text": [
      "ATU_haplotype_variants_0\n",
      " chr [1:3] \"chr2_219020958_C_T/Haplotypes/chr2_219020958_C_T__chr2_219214529_A_T/INTERVAL_covariates_and_PEER_factors_Haplo\"| __truncated__ ...\n",
      "\n",
      "ATU_haplotype_variants\n",
      "chr2_219020958_C_T/Haplotypes/chr2_219020958_C_T__chr2_219214529_A_T/INTERVAL_covariates_and_PEER_factors_Haplotype_chr2_219020958_C_T__chr2_219214529_A_T.rds\n",
      "ATU_haplotype_variants\n",
      "chr9_135920196_C_T/Haplotypes/chr9_135920196_C_T__chr9_135864513_C_T/INTERVAL_covariates_and_PEER_factors_Haplotype_chr9_135920196_C_T__chr9_135864513_C_T.rds\n",
      "ATU_haplotype_variants\n",
      "chr22_50949811_T_C/Haplotypes/chr22_50949811_T_C__chr22_50967912_C_T/INTERVAL_covariates_and_PEER_factors_Haplotype_chr22_50949811_T_C__chr22_50967912_C_T.rds\n"
     ]
    }
   ],
   "source": [
    "ATU_haplotype_variants <- 'chr2_219020958_C_T/Haplotypes/chr2_219020958_C_T__chr2_219214529_A_T/INTERVAL_covariates_and_PEER_factors_Haplotype_chr2_219020958_C_T__chr2_219214529_A_T.rds,chr9_135920196_C_T/Haplotypes/chr9_135920196_C_T__chr9_135864513_C_T/INTERVAL_covariates_and_PEER_factors_Haplotype_chr9_135920196_C_T__chr9_135864513_C_T.rds,chr22_50949811_T_C/Haplotypes/chr22_50949811_T_C__chr22_50967912_C_T/INTERVAL_covariates_and_PEER_factors_Haplotype_chr22_50949811_T_C__chr22_50967912_C_T.rds'\n",
    "\n",
    "\n",
    "ATU_haplotype_variants<-unlist(strsplit(ATU_haplotype_variants, split=','))\n",
    "  \n",
    "  \n",
    "  cat(\"ATU_haplotype_variants_0\\n\")\n",
    "  cat(str(ATU_haplotype_variants))\n",
    "  cat(\"\\n\")\n",
    "\n",
    "\n",
    "for(i in 1:length(ATU_haplotype_variants)){\n",
    "\n",
    "    cat(\"ATU_haplotype_variants\\n\")\n",
    "    cat(sprintf(as.character(ATU_haplotype_variants[i])))\n",
    "    cat(\"\\n\")\n",
    "}#\n"
   ]
  },
  {
   "cell_type": "markdown",
   "id": "eb0270ef-e047-4acf-a9ee-234963a9f4ba",
   "metadata": {},
   "source": [
    "# Read selected genes"
   ]
  },
  {
   "cell_type": "code",
   "execution_count": 5,
   "id": "847b20f8-7bc7-40c0-a6d5-fb1f51d3587f",
   "metadata": {
    "execution": {
     "iopub.execute_input": "2025-06-25T05:30:17.876602Z",
     "iopub.status.busy": "2025-06-25T05:30:17.875530Z",
     "iopub.status.idle": "2025-06-25T05:30:17.893288Z",
     "shell.execute_reply": "2025-06-25T05:30:17.892143Z"
    }
   },
   "outputs": [
    {
     "name": "stdout",
     "output_type": "stream",
     "text": [
      "ENSG_selected_0\n",
      " chr [1:3] \"ENSG00000018280\" \"ENSG00000165702\" \"ENSG00000025708\"\n",
      "\n"
     ]
    }
   ],
   "source": [
    "ENSG_selected <- 'ENSG00000018280,ENSG00000165702,ENSG00000025708'\n",
    "\n",
    "ENSG_selected<-unlist(strsplit(ENSG_selected, split=','))\n",
    "\n",
    "\n",
    "cat(\"ENSG_selected_0\\n\")\n",
    "cat(str(ENSG_selected))\n",
    "cat(\"\\n\")\n"
   ]
  },
  {
   "cell_type": "markdown",
   "id": "7b3d959e-68f3-4551-b3a3-da910b173845",
   "metadata": {},
   "source": [
    "# Read selected transcripts"
   ]
  },
  {
   "cell_type": "code",
   "execution_count": 6,
   "id": "11a4b626-eb07-4ec8-a7ab-c01581694495",
   "metadata": {
    "execution": {
     "iopub.execute_input": "2025-06-25T05:30:54.195563Z",
     "iopub.status.busy": "2025-06-25T05:30:54.194281Z",
     "iopub.status.idle": "2025-06-25T05:30:54.214305Z",
     "shell.execute_reply": "2025-06-25T05:30:54.213082Z"
    }
   },
   "outputs": [
    {
     "name": "stdout",
     "output_type": "stream",
     "text": [
      "transcripts_selected_0\n",
      " chr [1:3] \"ENST00000490872__ENST00000233202__ENST00000354352\" ...\n",
      "\n"
     ]
    }
   ],
   "source": [
    "transcripts_selected <- 'ENST00000490872__ENST00000233202__ENST00000354352,ENST00000372123__ENST00000372122__ENST00000339463,ENST00000395678__ENST00000487577__ENST00000252029'\n",
    "\n",
    "transcripts_selected<-unlist(strsplit(transcripts_selected, split=','))\n",
    "\n",
    "\n",
    "cat(\"transcripts_selected_0\\n\")\n",
    "cat(str(transcripts_selected))\n",
    "cat(\"\\n\")"
   ]
  },
  {
   "cell_type": "markdown",
   "id": "a6c920f4-552e-48fb-87f1-2981231f94c4",
   "metadata": {},
   "source": [
    "# Read input files"
   ]
  },
  {
   "cell_type": "markdown",
   "id": "4d85b45c-b82d-485b-8fc1-f9e6a57afb27",
   "metadata": {},
   "source": [
    "## Read path to INTERVAL results"
   ]
  },
  {
   "cell_type": "code",
   "execution_count": 7,
   "id": "e5e0b472-a307-490b-bfba-621424831ae1",
   "metadata": {
    "execution": {
     "iopub.execute_input": "2025-06-25T05:31:04.418697Z",
     "iopub.status.busy": "2025-06-25T05:31:04.417439Z",
     "iopub.status.idle": "2025-06-25T05:31:04.435841Z",
     "shell.execute_reply": "2025-06-25T05:31:04.434507Z"
    }
   },
   "outputs": [
    {
     "name": "stdout",
     "output_type": "stream",
     "text": [
      "path_INTERVAL_\n",
      "/group/soranzo/manuel.tardaguila/INTERVAL_results/\n"
     ]
    }
   ],
   "source": [
    "#### READ and transform path_INTERVAL ----\n",
    "  \n",
    "path_INTERVAL = '/group/soranzo/manuel.tardaguila/INTERVAL_results/'\n",
    "\n",
    "cat(\"path_INTERVAL_\\n\")\n",
    "cat(sprintf(as.character(path_INTERVAL)))\n",
    "cat(\"\\n\")"
   ]
  },
  {
   "cell_type": "markdown",
   "id": "f7d64069-b586-497e-b338-de2cb753fed4",
   "metadata": {},
   "source": [
    "## Read path to BluePrint results"
   ]
  },
  {
   "cell_type": "code",
   "execution_count": 8,
   "id": "79a81c99-4db2-4208-9ee8-a4cae7f79a56",
   "metadata": {
    "execution": {
     "iopub.execute_input": "2025-06-25T05:31:05.158344Z",
     "iopub.status.busy": "2025-06-25T05:31:05.157258Z",
     "iopub.status.idle": "2025-06-25T05:31:05.174367Z",
     "shell.execute_reply": "2025-06-25T05:31:05.173125Z"
    }
   },
   "outputs": [
    {
     "name": "stdout",
     "output_type": "stream",
     "text": [
      "path_BP_\n",
      "/group/soranzo/manuel.tardaguila/BP_results/\n"
     ]
    }
   ],
   "source": [
    "#### READ and transform path_BP ----\n",
    "\n",
    "path_BP = '/group/soranzo/manuel.tardaguila/BP_results/'\n",
    "\n",
    "cat(\"path_BP_\\n\")\n",
    "cat(sprintf(as.character(path_BP)))\n",
    "cat(\"\\n\")"
   ]
  },
  {
   "cell_type": "markdown",
   "id": "a0b06d54-e73f-43fd-8d8b-81141813a4bd",
   "metadata": {},
   "source": [
    "## Read INTERVAL transcript expression matrix"
   ]
  },
  {
   "cell_type": "code",
   "execution_count": 9,
   "id": "432681b8-e18c-41ae-92cc-5937b70d6f51",
   "metadata": {
    "execution": {
     "iopub.execute_input": "2025-06-25T05:31:16.777595Z",
     "iopub.status.busy": "2025-06-25T05:31:16.776352Z",
     "iopub.status.idle": "2025-06-25T05:31:36.508100Z",
     "shell.execute_reply": "2025-06-25T05:31:36.506862Z"
    }
   },
   "outputs": [],
   "source": [
    " \n",
    "Transposed_Isoform_Expression<-readRDS(\"/group/soranzo/manuel.tardaguila/INTERVAL_results/Transposed_Isoform_Expression_df.rds\")\n",
    "colnames(Transposed_Isoform_Expression)[which(colnames(Transposed_Isoform_Expression) == \"Sample_id\")]<-\"sample_id\"\n"
   ]
  },
  {
   "cell_type": "raw",
   "id": "04645c4b-f8d2-449a-8b8d-113661fc806d",
   "metadata": {
    "execution": {
     "iopub.execute_input": "2025-06-24T13:27:28.789999Z",
     "iopub.status.busy": "2025-06-24T13:27:28.789058Z",
     "iopub.status.idle": "2025-06-24T13:27:29.174610Z",
     "shell.execute_reply": "2025-06-24T13:27:29.173457Z"
    }
   },
   "source": [
    "cat(\"Transposed_Isoform_Expression_0\\n\")\n",
    "cat(str(Transposed_Isoform_Expression))\n",
    "cat(\"\\n\")"
   ]
  },
  {
   "cell_type": "markdown",
   "id": "5c875f99-010c-4e0f-b024-5ba88f5d125d",
   "metadata": {},
   "source": [
    "## Read ENSEMBL gtf"
   ]
  },
  {
   "cell_type": "code",
   "execution_count": 10,
   "id": "02e54da4-56f0-448a-9f15-e35ac33517c5",
   "metadata": {
    "execution": {
     "iopub.execute_input": "2025-06-25T05:31:36.510838Z",
     "iopub.status.busy": "2025-06-25T05:31:36.509916Z",
     "iopub.status.idle": "2025-06-25T05:31:59.618670Z",
     "shell.execute_reply": "2025-06-25T05:31:59.617430Z"
    }
   },
   "outputs": [],
   "source": [
    "#### READ ensembl_gtf ----\n",
    "\n",
    "ensembl_gtf = readGFF(\"/group/soranzo/manuel.tardaguila/Rebuild_sit_plots/Reference_files/Homo_sapiens.GRCh37.87.gtf.gz\")\n",
    "\n",
    "\n",
    "# cat(\"ensembl_gtf_0\\n\")\n",
    "# cat(str(ensembl_gtf))\n",
    "# cat(\"\\n\")\n",
    "# cat(sprintf(as.character(names(summary(as.factor(ensembl_gtf$type))))))\n",
    "# cat(\"\\n\")\n",
    "# cat(sprintf(as.character(summary(as.factor(ensembl_gtf$type)))))\n",
    "# cat(\"\\n\")"
   ]
  },
  {
   "cell_type": "markdown",
   "id": "40af5a55-7003-4038-9759-4999e9eea354",
   "metadata": {},
   "source": [
    "# Subset ensembl_gtf"
   ]
  },
  {
   "cell_type": "code",
   "execution_count": 12,
   "id": "44cf446b-7213-4bd1-9fe8-e2eb9a4bd0c1",
   "metadata": {
    "execution": {
     "iopub.execute_input": "2025-06-25T05:33:40.465004Z",
     "iopub.status.busy": "2025-06-25T05:33:40.463955Z",
     "iopub.status.idle": "2025-06-25T05:33:40.590215Z",
     "shell.execute_reply": "2025-06-25T05:33:40.588984Z"
    }
   },
   "outputs": [],
   "source": [
    " #### subset the ensembl gtf ----\n",
    "  \n",
    "  \n",
    "  ensembl_gtf_sel<-unique(ensembl_gtf[which(ensembl_gtf$gene_id%in%ENSG_selected &\n",
    "                                       ensembl_gtf$type%in%c('gene','transcript','exon','CDS','five_prime_utr','three_prime_utr')),])  \n",
    "  \n",
    "\n",
    "rm(ensembl_gtf)"
   ]
  },
  {
   "cell_type": "raw",
   "id": "f02051cd-0b15-4a15-be71-20568bd7a09b",
   "metadata": {
    "execution": {
     "iopub.execute_input": "2025-06-25T05:34:17.716690Z",
     "iopub.status.busy": "2025-06-25T05:34:17.715654Z",
     "iopub.status.idle": "2025-06-25T05:34:17.761779Z",
     "shell.execute_reply": "2025-06-25T05:34:17.760733Z"
    }
   },
   "source": [
    "cat(\"ensembl_gtf_sel_0\\n\")\n",
    "cat(str(ensembl_gtf_sel))\n",
    "cat(\"\\n\")\n",
    "cat(str(unique(ensembl_gtf_sel$gene_id)))\n",
    "cat(\"\\n\")\n",
    "cat(sprintf(as.character(names(summary(as.factor(ensembl_gtf_sel$transcript_biotype))))))\n",
    "cat(\"\\n\")\n",
    "cat(sprintf(as.character(summary(as.factor(ensembl_gtf_sel$transcript_biotype)))))\n",
    "cat(\"\\n\")"
   ]
  },
  {
   "cell_type": "markdown",
   "id": "607d9065-d45a-498c-9536-ba245167e844",
   "metadata": {},
   "source": [
    "# General path graphs"
   ]
  },
  {
   "cell_type": "code",
   "execution_count": 14,
   "id": "a3781acc-b3cd-4c77-9c00-3d76eb65895a",
   "metadata": {
    "execution": {
     "iopub.execute_input": "2025-06-25T05:34:44.676245Z",
     "iopub.status.busy": "2025-06-25T05:34:44.675127Z",
     "iopub.status.idle": "2025-06-25T05:34:44.692647Z",
     "shell.execute_reply": "2025-06-25T05:34:44.691620Z"
    }
   },
   "outputs": [
    {
     "data": {
      "text/plain": [
       "NULL"
      ]
     },
     "metadata": {},
     "output_type": "display_data"
    }
   ],
   "source": [
    "path_graphs<-paste('/group/soranzo/manuel.tardaguila/Rebuild_sit_plots/test/','Graphs_selected_ATU_haplotypes','/',sep='')\n",
    "  \n",
    "  if (file.exists(path_graphs)){\n",
    "    \n",
    "    \n",
    "  }else{\n",
    "    \n",
    "    dir.create(file.path(path_graphs))\n",
    "    \n",
    "  }#path_graphs\n",
    "\n",
    "path_figures = paste(\"/group/soranzo/manuel.tardaguila/Rebuild_sit_plots/test/Figure_graphs/\",sep='')\n",
    "    \n",
    "    if(file.exists(path_figures)){\n",
    "      \n",
    "    }else{\n",
    "      dir.create(path_figures)\n",
    "    }"
   ]
  },
  {
   "cell_type": "markdown",
   "id": "b1d2b1ff-8020-4598-af79-b0b17fd649ee",
   "metadata": {},
   "source": [
    "# LOOP to print graphs"
   ]
  },
  {
   "cell_type": "code",
   "execution_count": 33,
   "id": "6c097343-cc7c-4eed-ba68-288fa877db9d",
   "metadata": {
    "execution": {
     "iopub.execute_input": "2025-06-25T06:11:59.668982Z",
     "iopub.status.busy": "2025-06-25T06:11:59.667923Z",
     "iopub.status.idle": "2025-06-25T06:11:59.678429Z",
     "shell.execute_reply": "2025-06-25T06:11:59.677347Z"
    }
   },
   "outputs": [],
   "source": [
    "START<-1"
   ]
  },
  {
   "cell_type": "code",
   "execution_count": 35,
   "id": "e0b75116-d26a-4577-a811-5f210709206a",
   "metadata": {
    "execution": {
     "iopub.execute_input": "2025-06-25T06:14:15.641357Z",
     "iopub.status.busy": "2025-06-25T06:14:15.640276Z",
     "iopub.status.idle": "2025-06-25T06:14:21.361624Z",
     "shell.execute_reply": "2025-06-25T06:14:21.360423Z"
    }
   },
   "outputs": [
    {
     "name": "stdout",
     "output_type": "stream",
     "text": [
      "---------------------------------------------------------------------------------->\t1\tchr2_219020958_C_T/Haplotypes/chr2_219020958_C_T__chr2_219214529_A_T/INTERVAL_covariates_and_PEER_factors_Haplotype_chr2_219020958_C_T__chr2_219214529_A_T.rds\tchr2_219020958_C_T__chr2_219214529_A_T\n",
      "ENSG00000018280\n",
      "ENSG00000018280\tSLC11A1\t2\t219246752\t219261617\t+\t\n",
      "ENST00000490872__ENST00000233202__ENST00000354352\n"
     ]
    },
    {
     "name": "stderr",
     "output_type": "stream",
     "text": [
      "Warning message in melt(Transposed_Isoform_Expression_sel, id.vars = c(\"sample_id\"), :\n",
      "“The melt generic in data.table has been passed a data.frame and will attempt to redirect to the relevant reshape2 method; please note that reshape2 is deprecated, and this redirection is now deprecated as well. To continue using melt methods from reshape2 while both libraries are attached, e.g. melt.list, you can prepend the namespace like reshape2::melt(Transposed_Isoform_Expression_sel). In the next version, this warning will become an error.”\n"
     ]
    },
    {
     "name": "stdout",
     "output_type": "stream",
     "text": [
      "--------------------------------------------->\t1\tENST00000354352\n"
     ]
    },
    {
     "name": "stderr",
     "output_type": "stream",
     "text": [
      "Warning message:\n",
      "“Removed 1 rows containing non-finite values (stat_ydensity).”\n",
      "Warning message:\n",
      "“Removed 1 rows containing non-finite values (stat_summary).”\n",
      "Warning message:\n",
      "“Removed 1 rows containing non-finite values (stat_ydensity).”\n",
      "Warning message:\n",
      "“Removed 1 rows containing non-finite values (stat_summary).”\n"
     ]
    },
    {
     "name": "stdout",
     "output_type": "stream",
     "text": [
      "--------------------------------------------->\t2\tENST00000233202\n",
      "--------------------------------------------->\t3\tENST00000490872\n"
     ]
    },
    {
     "name": "stderr",
     "output_type": "stream",
     "text": [
      "Warning message:\n",
      "“Removed 1 rows containing non-finite values (stat_ydensity).”\n",
      "Warning message:\n",
      "“Removed 1 rows containing non-finite values (stat_summary).”\n",
      "Warning message:\n",
      "“Removed 1 rows containing non-finite values (stat_ydensity).”\n",
      "Warning message:\n",
      "“Removed 1 rows containing non-finite values (stat_summary).”\n"
     ]
    },
    {
     "name": "stdout",
     "output_type": "stream",
     "text": [
      "---------------------------------------------------------------------------------->\t2\tchr9_135920196_C_T/Haplotypes/chr9_135920196_C_T__chr9_135864513_C_T/INTERVAL_covariates_and_PEER_factors_Haplotype_chr9_135920196_C_T__chr9_135864513_C_T.rds\tchr9_135920196_C_T__chr9_135864513_C_T\n",
      "ENSG00000165702\n",
      "ENSG00000165702\tGFI1B\t9\t135820932\t135867083\t+\t\n",
      "ENST00000372123__ENST00000372122__ENST00000339463\n"
     ]
    },
    {
     "name": "stderr",
     "output_type": "stream",
     "text": [
      "Warning message in melt(Transposed_Isoform_Expression_sel, id.vars = c(\"sample_id\"), :\n",
      "“The melt generic in data.table has been passed a data.frame and will attempt to redirect to the relevant reshape2 method; please note that reshape2 is deprecated, and this redirection is now deprecated as well. To continue using melt methods from reshape2 while both libraries are attached, e.g. melt.list, you can prepend the namespace like reshape2::melt(Transposed_Isoform_Expression_sel). In the next version, this warning will become an error.”\n"
     ]
    },
    {
     "name": "stdout",
     "output_type": "stream",
     "text": [
      "--------------------------------------------->\t1\tENST00000339463\n"
     ]
    },
    {
     "name": "stderr",
     "output_type": "stream",
     "text": [
      "Warning message:\n",
      "“Removed 1 rows containing non-finite values (stat_ydensity).”\n",
      "Warning message:\n",
      "“Removed 1 rows containing non-finite values (stat_summary).”\n",
      "Warning message:\n",
      "“Removed 1 rows containing non-finite values (stat_ydensity).”\n",
      "Warning message:\n",
      "“Removed 1 rows containing non-finite values (stat_summary).”\n"
     ]
    },
    {
     "name": "stdout",
     "output_type": "stream",
     "text": [
      "--------------------------------------------->\t2\tENST00000372122\n",
      "--------------------------------------------->\t3\tENST00000372123\n",
      "---------------------------------------------------------------------------------->\t3\tchr22_50949811_T_C/Haplotypes/chr22_50949811_T_C__chr22_50967912_C_T/INTERVAL_covariates_and_PEER_factors_Haplotype_chr22_50949811_T_C__chr22_50967912_C_T.rds\tchr22_50949811_T_C__chr22_50967912_C_T\n",
      "ENSG00000025708\n",
      "ENSG00000025708\tTYMP\t22\t50964181\t50968485\t-\t\n",
      "ENST00000395678__ENST00000487577__ENST00000252029\n"
     ]
    },
    {
     "name": "stderr",
     "output_type": "stream",
     "text": [
      "Warning message in melt(Transposed_Isoform_Expression_sel, id.vars = c(\"sample_id\"), :\n",
      "“The melt generic in data.table has been passed a data.frame and will attempt to redirect to the relevant reshape2 method; please note that reshape2 is deprecated, and this redirection is now deprecated as well. To continue using melt methods from reshape2 while both libraries are attached, e.g. melt.list, you can prepend the namespace like reshape2::melt(Transposed_Isoform_Expression_sel). In the next version, this warning will become an error.”\n"
     ]
    },
    {
     "name": "stdout",
     "output_type": "stream",
     "text": [
      "--------------------------------------------->\t1\tENST00000252029\n",
      "--------------------------------------------->\t2\tENST00000487577\n",
      "--------------------------------------------->\t3\tENST00000395678\n"
     ]
    },
    {
     "name": "stderr",
     "output_type": "stream",
     "text": [
      "Warning message:\n",
      "“Removed 1 rows containing non-finite values (stat_ydensity).”\n",
      "Warning message:\n",
      "“Removed 1 rows containing non-finite values (stat_summary).”\n",
      "Warning message:\n",
      "“Removed 1 rows containing non-finite values (stat_ydensity).”\n",
      "Warning message:\n",
      "“Removed 1 rows containing non-finite values (stat_summary).”\n"
     ]
    }
   ],
   "source": [
    "DEBUG<-0\n",
    "\n",
    "for(i in START:length(ATU_haplotype_variants))\n",
    "{\n",
    "  ATU_haplotype_variants_sel<-ATU_haplotype_variants[i]\n",
    "  \n",
    "  filename<-paste(path_INTERVAL,ATU_haplotype_variants_sel, sep='')\n",
    "\n",
    "      if(DEBUG == 1)\n",
    "      {\n",
    "\n",
    "          cat(\"File: \\n\")\n",
    "          cat(sprintf(as.character(filename)))\n",
    "          cat(\"\\n\")\n",
    "      }\n",
    "    \n",
    "    #chr2_219020958_C_T/Haplotypes/chr2_219020958_C_T__chr2_219214529_A_T/INTERVAL_covariates_and_PEER_factors_Haplotype_chr2_219020958_C_T__chr2_219214529_A_T.rds\n",
    "    \n",
    "    \n",
    "    haplotype_sel<-gsub(\"^[^/]+/[^/]+/\",\"\",ATU_haplotype_variants_sel)\n",
    "    haplotype_sel<-gsub(\"/.+$\",\"\",haplotype_sel)\n",
    "    \n",
    "    cat(\"---------------------------------------------------------------------------------->\\t\")\n",
    "    cat(sprintf(as.character(i)))\n",
    "    cat(\"\\t\")\n",
    "    cat(sprintf(as.character(ATU_haplotype_variants_sel)))\n",
    "    cat(\"\\t\")\n",
    "    cat(sprintf(as.character(haplotype_sel)))\n",
    "    cat(\"\\n\")\n",
    "    \n",
    "    INTERVAL_covariates_and_PEER_factors_sel<-readRDS(file=filename)\n",
    "    \n",
    "    if(DEBUG == 1)\n",
    "    {\n",
    "      cat(\"INTERVAL_covariates_and_PEER_factors_sel_0\\n\")\n",
    "      cat(str(INTERVAL_covariates_and_PEER_factors_sel))\n",
    "      cat(\"\\n\")\n",
    "      cat(sprintf(as.character(names(summary(INTERVAL_covariates_and_PEER_factors_sel$Haplotype)))))\n",
    "      cat(\"\\n\")\n",
    "      cat(sprintf(as.character(summary(INTERVAL_covariates_and_PEER_factors_sel$Haplotype))))\n",
    "      cat(\"\\n\")\n",
    "      \n",
    "    }\n",
    "\n",
    "    \n",
    "    \n",
    "  \n",
    "  path_graphs_haplotype<-paste(path_graphs,haplotype_sel,'/',sep='')\n",
    "  \n",
    "  if (file.exists(path_graphs_haplotype)){\n",
    "    \n",
    "    \n",
    "  }else{\n",
    "    \n",
    "    dir.create(file.path(path_graphs_haplotype))\n",
    "    \n",
    "  }#path_graphs_haplotype\n",
    "\n",
    "\n",
    "\n",
    "    #### ENSG ----\n",
    "    \n",
    "    ENSG_array_sel<-ENSG_selected[i]\n",
    "    \n",
    "    cat(sprintf(as.character(ENSG_array_sel)))\n",
    "    cat(\"\\n\")\n",
    "    \n",
    "    ensembl_gtf_sel_ENSG_sel<-ensembl_gtf_sel[which(ensembl_gtf_sel$gene_id == ENSG_array_sel &\n",
    "                                                      ensembl_gtf_sel$type == 'gene'),]\n",
    "    \n",
    "    if(DEBUG == 1)\n",
    "    {\n",
    "      cat(\"ensembl_gtf_sel_ENSG_sel_0\\n\")\n",
    "      cat(str(ensembl_gtf_sel_ENSG_sel))\n",
    "      cat(\"\\n\")\n",
    "    }\n",
    "    \n",
    "    HGNC_sel<-unique(ensembl_gtf_sel_ENSG_sel$gene_name)\n",
    "    \n",
    "    if(DEBUG == 1)\n",
    "    {\n",
    "      cat(\"HGNC_sel_0\\n\")\n",
    "      cat(str(HGNC_sel))\n",
    "      cat(\"\\n\")\n",
    "    }\n",
    "    \n",
    "    \n",
    "    chr_sel<-unique(as.character(ensembl_gtf_sel_ENSG_sel$seqid))\n",
    "    \n",
    "    if(DEBUG == 1)\n",
    "    {\n",
    "      cat(\"chr_sel_0\\n\")\n",
    "      cat(str(chr_sel))\n",
    "      cat(\"\\n\")\n",
    "    }\n",
    "    \n",
    "    start_sel<-unique(ensembl_gtf_sel_ENSG_sel$start)\n",
    "    \n",
    "    if(DEBUG == 1)\n",
    "    {\n",
    "      cat(\"start_sel_0\\n\")\n",
    "      cat(str(start_sel))\n",
    "      cat(\"\\n\")\n",
    "    }\n",
    "    \n",
    "    end_sel<-unique(ensembl_gtf_sel_ENSG_sel$end)\n",
    "    \n",
    "    if(DEBUG == 1)\n",
    "    {\n",
    "      cat(\"end_sel_0\\n\")\n",
    "      cat(str(end_sel))\n",
    "      cat(\"\\n\")\n",
    "    }\n",
    "    \n",
    "    strand_sel<-unique(ensembl_gtf_sel_ENSG_sel$strand)\n",
    "    \n",
    "    if(DEBUG == 1)\n",
    "    {\n",
    "      cat(\"strand_sel_0\\n\")\n",
    "      cat(str(strand_sel))\n",
    "      cat(\"\\n\")\n",
    "    }\n",
    "    \n",
    "    \n",
    "    cat(sprintf(as.character(ENSG_array_sel)))\n",
    "    cat(\"\\t\")\n",
    "    cat(sprintf(as.character(HGNC_sel)))\n",
    "    cat(\"\\t\")\n",
    "    cat(sprintf(as.character(chr_sel)))\n",
    "    cat(\"\\t\")\n",
    "    cat(sprintf(as.character(start_sel)))\n",
    "    cat(\"\\t\")\n",
    "    cat(sprintf(as.character(end_sel)))\n",
    "    cat(\"\\t\")\n",
    "    cat(sprintf(as.character(strand_sel)))\n",
    "    cat(\"\\t\")\n",
    "    cat(\"\\n\")\n",
    "\n",
    "\n",
    "    path_graphs_haplotype_HGNC<-paste(path_graphs_haplotype,HGNC_sel,'/',sep='')\n",
    "  \n",
    "      if (file.exists(path_graphs_haplotype_HGNC)){\n",
    "        \n",
    "        \n",
    "      }else{\n",
    "        \n",
    "        dir.create(file.path(path_graphs_haplotype_HGNC))\n",
    "        \n",
    "      }#path_graphs_haplotype\n",
    "\n",
    "    transcripts_array_sel<-transcripts_selected[i]\n",
    "    \n",
    "    cat(sprintf(as.character(transcripts_array_sel)))\n",
    "    cat(\"\\n\")\n",
    "    \n",
    "    \n",
    "    transcript_set<-rev(unlist(strsplit(transcripts_array_sel, split=\"__\")))\n",
    "    \n",
    "    if(DEBUG == 1)\n",
    "    {\n",
    "      cat(\"--------------->transcript_set_0\\n\")\n",
    "      cat(str(transcript_set))\n",
    "      cat(\"\\n\")\n",
    "    }\n",
    "\n",
    "\n",
    "    ############################# transcript plot --------------------------------------------------------------------------------------------------------------------------------------\n",
    "\n",
    "    \n",
    "  \n",
    "    \n",
    "        ensembl_gtf_sel_transcript_sel<-ensembl_gtf_sel[which(ensembl_gtf_sel$transcript_id %in% transcript_set &\n",
    "                                                                ensembl_gtf_sel$type == 'transcript'),]\n",
    "        \n",
    "        if(DEBUG == 1)\n",
    "        {\n",
    "          cat(\"ensembl_gtf_sel_transcript_sel_0\\n\")\n",
    "          cat(str(ensembl_gtf_sel_transcript_sel))\n",
    "          cat(\"\\n\")\n",
    "        }\n",
    "        \n",
    "       \n",
    "        \n",
    "        \n",
    "        REP<-data.frame()\n",
    "        for(l in 1:length(transcript_set))\n",
    "        {\n",
    "          \n",
    "          transcript_set_sel<-transcript_set[l]\n",
    "          \n",
    "          \n",
    "          # cat(\"---------------------------------------------------------------------------------->\\t\")\n",
    "          # cat(sprintf(as.character(l)))\n",
    "          # cat(\"\\t\")\n",
    "          # cat(sprintf(as.character(transcript_set_sel)))\n",
    "          # cat(\"\\n\")\n",
    "          \n",
    "          ensembl_gtf_sel_transcript_sel<-ensembl_gtf_sel[which(ensembl_gtf_sel$transcript_id == transcript_set_sel &\n",
    "                                                                  ensembl_gtf_sel$type != 'gene'),]\n",
    "          # \n",
    "          # if(DEBUG == 1)\n",
    "          # {\n",
    "          #   cat(\"ensembl_gtf_sel_transcript_sel_0\\n\")\n",
    "          #   cat(str(ensembl_gtf_sel_transcript_sel))\n",
    "          #   cat(\"\\n\")\n",
    "          # }\n",
    "          \n",
    "          ensembl_gtf_sel_transcript_sel$COORD<-l\n",
    "          \n",
    "          REP<-rbind(ensembl_gtf_sel_transcript_sel,REP)\n",
    "          \n",
    "        }#l in 1:length(transcript_set)\n",
    "        \n",
    "        \n",
    "        colnames(REP)[which(colnames(REP) == 'seqid')]<-'seqnames'\n",
    "        \n",
    "        \n",
    "        if(DEBUG == 1)\n",
    "        {\n",
    "          cat(\"REP_0\\n\")\n",
    "          cat(str(REP))\n",
    "          cat(\"\\n\")\n",
    "        }\n",
    "        \n",
    "        REP$transcript_biotype<-factor(REP$transcript_biotype,\n",
    "                                       levels=c(\"protein_coding\",\"retained_intron\",\"nonsense_mediated_decay\",\"processed_transcript\",\"antisense\"),\n",
    "                                       ordered=T)\n",
    "        \n",
    "        REP$transcript_id<-factor(REP$transcript_id,\n",
    "                                  levels=rev(transcript_set),\n",
    "                                  ordered=T)\n",
    "        \n",
    "        \n",
    "        \n",
    "        if(DEBUG == 1)\n",
    "        {\n",
    "          cat(\"REP_1\\n\")\n",
    "          cat(str(REP))\n",
    "          cat(\"\\n\")\n",
    "        }\n",
    "        \n",
    "        \n",
    "        vector.fill<-c(brewer.pal(length(levels(REP$transcript_biotype)), \"Dark2\"))\n",
    "        \n",
    "        if(DEBUG == 1)\n",
    "        {\n",
    "          cat(\"vector.fill_0\\n\")\n",
    "          cat(str(vector.fill))\n",
    "          cat(\"\\n\")\n",
    "        }\n",
    "        \n",
    "        \n",
    "        \n",
    "        # extract exons\n",
    "        \n",
    "        REP_exons <- REP %>% dplyr::filter(type == \"exon\")\n",
    "        \n",
    "        REP_exons_rescaled <- shorten_gaps(\n",
    "          REP_exons, \n",
    "          to_intron(REP_exons, \"transcript_name\"), \n",
    "          group_var = \"transcript_name\"\n",
    "        )\n",
    "        \n",
    "        transcript_plot<-REP_exons_rescaled %>%\n",
    "          dplyr::filter(type == \"exon\") %>%\n",
    "          ggplot(aes(\n",
    "            xstart = start,\n",
    "            xend = end,\n",
    "            y = transcript_id\n",
    "          )) +\n",
    "          geom_range(\n",
    "            aes(fill = transcript_biotype)\n",
    "          ) +\n",
    "          geom_intron(\n",
    "            data = REP_exons_rescaled %>% dplyr::filter(type == \"intron\"),\n",
    "            aes(strand=strand),\n",
    "            arrow = grid::arrow(ends = \"last\", length = grid::unit(0.25, \"cm\")),\n",
    "            arrow.min.intron.length = 200\n",
    "          )\n",
    "        \n",
    "        transcript_plot<-transcript_plot+\n",
    "          scale_fill_manual(values=vector.fill,drop=F)+\n",
    "          theme_classic()+\n",
    "          theme(axis.title.y=element_blank(),\n",
    "                axis.title.x=element_blank(),\n",
    "                axis.text.y=element_text(angle=0,size=6, color=\"black\", family=\"sans\"),\n",
    "                axis.text.x=element_text(angle=0,size=6, color=\"black\", family=\"sans\"),\n",
    "                axis.line.x = element_line(size = 0.2),\n",
    "                axis.ticks = element_line(size = 0.2),\n",
    "                axis.line.y = element_line(size = 0.2))+\n",
    "          theme(legend.title = element_blank(),\n",
    "                legend.text = element_text(size=6),\n",
    "                legend.key.size = unit(0.25, 'cm'), #change legend key size\n",
    "                legend.key.height = unit(0.25, 'cm'), #change legend key height\n",
    "                legend.key.width = unit(0.25, 'cm'), #change legend key width\n",
    "                legend.position=\"bottom\")+\n",
    "          guides(fill=guide_legend(nrow=2,byrow=TRUE))\n",
    "        \n",
    "        # scale_x_continuous(name=NULL,breaks=c(start_sel,end_sel),\n",
    "        #                    labels=as.character(c(start_sel,end_sel)),\n",
    "        #                    limits=c(start_sel-1,end_sel+1))+\n",
    "        \n",
    "        setwd(path_graphs_haplotype_HGNC)\n",
    "        \n",
    "        svgname<-paste(paste('Transcripts_analysed', sep='_'),\".svg\",sep='')\n",
    "        makesvg = TRUE\n",
    "        \n",
    "        if (makesvg == TRUE)\n",
    "        {\n",
    "          ggsave(svgname, plot= transcript_plot,\n",
    "                 device=\"svg\",\n",
    "                 height=4, width=4)\n",
    "        }\n",
    "\n",
    "\n",
    "    ############################################################################################################ violin transcript plot ------------------------------------------------------------------\n",
    "\n",
    "   \n",
    "   \n",
    "        Transposed_Isoform_Expression_sel<-Transposed_Isoform_Expression[,c(which(colnames(Transposed_Isoform_Expression) == \"sample_id\"),\n",
    "                                                                            which(colnames(Transposed_Isoform_Expression) %in% transcript_set))]\n",
    "        if(DEBUG == 1)\n",
    "        {\n",
    "          cat(\"Transposed_Isoform_Expression_sel_1\\n\")\n",
    "          cat(str(Transposed_Isoform_Expression_sel))\n",
    "          cat(\"\\n\")\n",
    "        }\n",
    "        \n",
    "        Transposed_Isoform_Expression_sel.m<-melt(Transposed_Isoform_Expression_sel, id.vars=c(\"sample_id\"),value.name = \"log2TPM\",variable.name = \"transcript_id\")\n",
    "        Transposed_Isoform_Expression_sel.m$TPM<--1+2^(Transposed_Isoform_Expression_sel.m$log2TPM)\n",
    "        \n",
    "        \n",
    "        if(DEBUG == 1)\n",
    "        {\n",
    "          cat(\"Transposed_Isoform_Expression_sel.m_0\\n\")\n",
    "          cat(str(Transposed_Isoform_Expression_sel.m))\n",
    "          cat(\"\\n\")\n",
    "          \n",
    "          cat(\"sample_id\\n\")\n",
    "          cat(str(unique(Transposed_Isoform_Expression_sel.m$sample_id)))\n",
    "          cat(\"\\n\")\n",
    "          \n",
    "          cat(\"transcript_id\\n\")\n",
    "          cat(str(unique(Transposed_Isoform_Expression_sel.m$transcript_id)))\n",
    "          cat(\"\\n\")\n",
    "          \n",
    "          # ########################################\n",
    "          # quit(status = 1)\n",
    "        }\n",
    "        \n",
    "        ### calculate summatory TPM per sample\n",
    "        \n",
    "        Transposed_Isoform_Expression_sel.m.dt<-data.table(Transposed_Isoform_Expression_sel.m,\n",
    "                                                           key=c(\"sample_id\"))\n",
    "        \n",
    "        if(DEBUG == 1)\n",
    "        {\n",
    "          cat(\"Transposed_Isoform_Expression_sel.m.dt_0\\n\")\n",
    "          cat(str(Transposed_Isoform_Expression_sel.m.dt))\n",
    "          cat(\"\\n\")\n",
    "        }\n",
    "        \n",
    "        \n",
    "        Summary_table_GENE_EXP<-as.data.frame(Transposed_Isoform_Expression_sel.m.dt[, .(sum_GENE_EXP=sum(TPM)),\n",
    "                                                                                     by=key(Transposed_Isoform_Expression_sel.m.dt)],stringsAsFactors=F)\n",
    "        \n",
    "        if(DEBUG == 1)\n",
    "        {\n",
    "          \n",
    "          cat(\"Summary_table_GENE_EXP_0\\n\")\n",
    "          cat(str(Summary_table_GENE_EXP))\n",
    "          cat(\"\\n\")\n",
    "          \n",
    "          # quit(status = 1)\n",
    "        }\n",
    "        \n",
    "        \n",
    "        Transposed_Isoform_Expression_sel.m<-merge(Transposed_Isoform_Expression_sel.m,\n",
    "                                                   Summary_table_GENE_EXP,\n",
    "                                                   by=\"sample_id\")\n",
    "        \n",
    "        \n",
    "        if(DEBUG == 1)\n",
    "        {\n",
    "          cat(\"Transposed_Isoform_Expression_sel.m_1\\n\")\n",
    "          cat(str(Transposed_Isoform_Expression_sel.m))\n",
    "          cat(\"\\n\")\n",
    "          \n",
    "        }\n",
    "        \n",
    "        Transposed_Isoform_Expression_sel.m.dt<-data.table(Transposed_Isoform_Expression_sel.m,\n",
    "                                                           key=c(\"sample_id\",\"transcript_id\"))\n",
    "        \n",
    "        Ratio_df<-as.data.frame(Transposed_Isoform_Expression_sel.m.dt[, .(log2TPM=log2TPM,\n",
    "                                                                           TPM=TPM,\n",
    "                                                                           sum_GENE_EXP=sum_GENE_EXP,\n",
    "                                                                           Ratio=TPM/sum_GENE_EXP),by=key(Transposed_Isoform_Expression_sel.m.dt)],stringsAsFactors=F)\n",
    "        \n",
    "        if(DEBUG == 1)\n",
    "        {\n",
    "          \n",
    "          cat(\"Ratio_df_0\\n\")\n",
    "          cat(str(Ratio_df))\n",
    "          cat(\"\\n\")\n",
    "          #\n",
    "          # cat(\"distrib_ratios\\n\")\n",
    "          # cat(sprintf(as.character(names(summary(Ratio_df$Ratio)))))\n",
    "          # cat(\"\\n\")\n",
    "          # cat(sprintf(as.character(summary(Ratio_df$Ratio))))\n",
    "          # cat(\"\\n\")\n",
    "          #\n",
    "          #\n",
    "          # quit(status = 1)\n",
    "        }\n",
    "        \n",
    "        \n",
    "        \n",
    "        \n",
    "        \n",
    "        #### Merge with covariates matrix & keep HET ----\n",
    "        \n",
    "        \n",
    "        \n",
    "        Ratio_df<-merge(Ratio_df,\n",
    "                        INTERVAL_covariates_and_PEER_factors_sel,\n",
    "                        by=c(\"sample_id\"),\n",
    "                        all=T)\n",
    "        \n",
    "        \n",
    "        \n",
    "        \n",
    "        if(DEBUG == 1)\n",
    "        {\n",
    "          \n",
    "          cat(\"Ratio_df_3\\n\")\n",
    "          cat(str(Ratio_df))\n",
    "          cat(\"\\n\")\n",
    "          \n",
    "          # quit(status = 1)\n",
    "          \n",
    "        }\n",
    "        \n",
    "        Ratio_df_HET<-droplevels(Ratio_df[which(Ratio_df$Haplotype%in%c('HOM_REF','HET|HOM_REF','HOM_REF|HET','HET|HET')),])\n",
    "        \n",
    "        Ratio_df_HET$transcript_id<-factor(Ratio_df_HET$transcript_id,\n",
    "                                           levels=transcript_set,\n",
    "                                           ordered=T)\n",
    "        \n",
    "        Ratio_df_HET$Cell_Type<-'Whole blood'\n",
    "        \n",
    "        \n",
    "        Ratio_df_HET$Haplotype<-factor(Ratio_df_HET$Haplotype,\n",
    "                                      levels=c('HOM_REF','HET|HOM_REF','HOM_REF|HET','HET|HET'),\n",
    "                                      ordered=T)\n",
    "        \n",
    "        \n",
    "        \n",
    "        if(DEBUG == 1)\n",
    "        {\n",
    "          \n",
    "          cat(\"Ratio_df_HET_0\\n\")\n",
    "          cat(str(Ratio_df_HET))\n",
    "          cat(\"\\n\")\n",
    "          \n",
    "          \n",
    "          # quit(status = 1)\n",
    "          \n",
    "        }\n",
    "\n",
    "     array_transcript_ids<-levels(Ratio_df_HET$transcript_id)\n",
    "  \n",
    "  if(DEBUG == 1)\n",
    "  {\n",
    "    \n",
    "    cat(\"array_transcript_ids_0\\n\")\n",
    "    cat(str(array_transcript_ids))\n",
    "    cat(\"\\n\")\n",
    "  }\n",
    "  \n",
    "  \n",
    "      for(iteration_transcript_ids in 1:length(array_transcript_ids)){\n",
    "        \n",
    "        transcript_id_sel<-array_transcript_ids[iteration_transcript_ids]\n",
    "        \n",
    "        cat(\"--------------------------------------------->\\t\")\n",
    "        cat(sprintf(as.character(iteration_transcript_ids)))\n",
    "        cat(\"\\t\")\n",
    "        cat(sprintf(as.character(transcript_id_sel)))\n",
    "        cat(\"\\n\")\n",
    "        \n",
    "        Ratio_df_HET_transcript_id_sel<-droplevels(Ratio_df_HET[which(Ratio_df_HET$transcript_id == transcript_id_sel),])\n",
    "        \n",
    "        if(DEBUG == 1)\n",
    "        {\n",
    "          \n",
    "          cat(\"Ratio_df_HET_transcript_id_sel_0\\n\")\n",
    "          cat(str(Ratio_df_HET_transcript_id_sel))\n",
    "          cat(\"\\n\")\n",
    "        }\n",
    "        \n",
    "        \n",
    "        ##### Violin visual TPM  sel ----\n",
    "        \n",
    "        A<-round(summary(Ratio_df_HET_transcript_id_sel$TPM[!is.na(Ratio_df_HET_transcript_id_sel$TPM)]),2)\n",
    "        \n",
    "        if(DEBUG == 1)\n",
    "        {\n",
    "          cat(\"summary_TPM\\n\")\n",
    "          cat(sprintf(as.character(names(A))))\n",
    "          cat(\"\\n\")\n",
    "          cat(sprintf(as.character(A)))\n",
    "          cat(\"\\n\")\n",
    "        }\n",
    "        \n",
    "        step<-abs(A[6]-A[1])/3\n",
    "        \n",
    "        if(step == 0)\n",
    "        {\n",
    "          \n",
    "          step<-1\n",
    "        }\n",
    "        \n",
    "        breaks.Rank<-sort(unique(c(0,A[6],seq(from= A[1], to=A[6],by=step))))\n",
    "        labels.Rank<-as.character(round(breaks.Rank,1))\n",
    "        \n",
    "        \n",
    "        \n",
    "        if(DEBUG == 1)\n",
    "        {\n",
    "          cat(\"labels.Rank:\\t\")\n",
    "          cat(sprintf(as.character(labels.Rank)))\n",
    "          cat(\"\\n\")\n",
    "          \n",
    "          \n",
    "          # quit(status = 1)\n",
    "        }\n",
    "        \n",
    "        \n",
    "        vector.haplotypes<-c(brewer.pal(4, \"Spectral\"))\n",
    "        \n",
    "        \n",
    "        \n",
    "        WB_per_transcript_violin<-ggplot(data=Ratio_df_HET_transcript_id_sel,\n",
    "                             aes(x=Haplotype, y=TPM, fill=Haplotype)) +\n",
    "          geom_violin()+\n",
    "          stat_summary(fun = median, fun.min = median, fun.max = median,\n",
    "                       geom = \"crossbar\", width = 0.5)+\n",
    "          scale_y_continuous(name=\"TPM\",breaks=breaks.Rank,labels=labels.Rank, limits=c(breaks.Rank[1],breaks.Rank[length(breaks.Rank)]))+\n",
    "          scale_fill_manual(values=vector.haplotypes,drop=F)+\n",
    "          scale_x_discrete(name=NULL, drop=F)\n",
    "        \n",
    "        \n",
    "        \n",
    "        WB_per_transcript_violin<-WB_per_transcript_violin+\n",
    "          facet_grid(transcript_id ~ Cell_Type, scales='free_x', space='free_x', switch=\"y\", drop=F)+\n",
    "          theme_cowplot(font_size = 4)+\n",
    "          theme( strip.background = element_blank(),\n",
    "                 strip.placement = \"outside\",\n",
    "                 strip.text = element_text(size=6),\n",
    "                 panel.spacing = unit(0.2, \"lines\"),\n",
    "                 panel.background=element_rect(fill=\"white\"),\n",
    "                 panel.border=element_rect(colour=\"white\",size=0,5),\n",
    "                 panel.grid.major = element_blank(),\n",
    "                 panel.grid.minor = element_blank())+\n",
    "          theme_classic()+\n",
    "          theme(axis.title.y=element_text(size=8, color=\"black\", family=\"sans\"),\n",
    "                axis.title.x=element_blank(),\n",
    "                axis.text.y=element_text(angle=0,size=6, color=\"black\", family=\"sans\"),\n",
    "                axis.text.x=element_blank(),\n",
    "                axis.line.x = element_line(size = 0.2),\n",
    "                axis.ticks.x = element_blank(),\n",
    "                axis.ticks.y = element_line(size = 0.2),\n",
    "                axis.line.y = element_line(size = 0.2))+\n",
    "          theme(legend.title = element_text(size=6, color=\"black\", family=\"sans\"),\n",
    "                legend.text = element_text(size=6, color=\"black\", family=\"sans\"),\n",
    "                legend.key.size = unit(0.4, 'cm'), #change legend key size\n",
    "                legend.key.height = unit(0.4, 'cm'), #change legend key height\n",
    "                legend.key.width = unit(0.4, 'cm'), #change legend key width\n",
    "                legend.position=\"bottom\")+\n",
    "          guides(fill=guide_legend(nrow=2,byrow=TRUE))+\n",
    "          ggeasy::easy_center_title()\n",
    "        \n",
    "        \n",
    "    setwd(path_graphs_haplotype_HGNC)\n",
    "        \n",
    "\n",
    "      svgname<-paste(paste('WB_per_transcript_violin',transcript_id_sel, sep='_'),\".svg\",sep='')\n",
    "      makesvg = TRUE\n",
    "      \n",
    "      if (makesvg == TRUE)\n",
    "      {\n",
    "        ggsave(svgname, plot= WB_per_transcript_violin,\n",
    "               device=\"svg\",\n",
    "               height=3, width=3)\n",
    "      }\n",
    "\n",
    "        if(haplotype_sel == 'chr2_219020958_C_T__chr2_219214529_A_T'){\n",
    "\n",
    "            setwd(path_figures)\n",
    "      \n",
    "              svgname<-paste(paste('Figure_S2_panel_A',transcript_id_sel, sep='_'),\".svg\",sep='')\n",
    "              makesvg = TRUE\n",
    "              \n",
    "              if (makesvg == TRUE)\n",
    "              {\n",
    "                ggsave(svgname, plot= WB_per_transcript_violin,\n",
    "                       device=\"svg\",\n",
    "                       height=3, width=3)\n",
    "              }\n",
    "\n",
    "        }else{\n",
    "\n",
    "            if(haplotype_sel == 'chr9_135920196_C_T__chr9_135864513_C_T'){\n",
    "\n",
    "                setwd(path_figures)\n",
    "      \n",
    "                  svgname<-paste(paste('Figure_S2_panel_B',transcript_id_sel, sep='_'),\".svg\",sep='')\n",
    "                  makesvg = TRUE\n",
    "                  \n",
    "                  if (makesvg == TRUE)\n",
    "                  {\n",
    "                    ggsave(svgname, plot= WB_per_transcript_violin,\n",
    "                           device=\"svg\",\n",
    "                           height=3, width=3)\n",
    "                  }\n",
    "\n",
    "            }else{\n",
    "\n",
    "                  if(haplotype_sel == 'chr22_50949811_T_C__chr22_50967912_C_T'){\n",
    "\n",
    "                      \n",
    "                        setwd(path_figures)\n",
    "\n",
    "                      svgname<-paste(paste('Figure_S4_panel_J',transcript_id_sel, sep='_'),\".svg\",sep='')\n",
    "                      makesvg = TRUE\n",
    "                      \n",
    "                      if (makesvg == TRUE)\n",
    "                      {\n",
    "                        ggsave(svgname, plot= WB_per_transcript_violin,\n",
    "                               device=\"svg\",\n",
    "                               height=3, width=3)\n",
    "                      }\n",
    "\n",
    "                  }else{\n",
    "\n",
    "                      # Do nothing\n",
    "                      \n",
    "                  }#haplotype_sel == 'chr22_50949811_T_C__chr22_50967912_C_T'                \n",
    "            }#haplotype_sel == 'chr9_135920196_C_T__chr9_135864513_C_T'            \n",
    "        }#haplotype_sel == 'chr2_219020958_C_T__chr2_219214529_A_T'\n",
    "        \n",
    "        \n",
    "      }#iteration_transcript_ids in 1:length(array_transcript_ids)\n",
    "}#i in START:length(VARS)"
   ]
  },
  {
   "cell_type": "markdown",
   "id": "4baf1328-b3da-4092-a87f-d2e24a0485e2",
   "metadata": {},
   "source": [
    "# AFTER"
   ]
  },
  {
   "cell_type": "code",
   "execution_count": null,
   "id": "b1ca9499-ed55-4a1e-b85f-e1a2ea76c7a6",
   "metadata": {},
   "outputs": [],
   "source": []
  }
 ],
 "metadata": {
  "kernelspec": {
   "display_name": "general_purpose",
   "language": "R",
   "name": "ir"
  },
  "language_info": {
   "codemirror_mode": "r",
   "file_extension": ".r",
   "mimetype": "text/x-r-source",
   "name": "R",
   "pygments_lexer": "r",
   "version": "4.1.3"
  }
 },
 "nbformat": 4,
 "nbformat_minor": 5
}
